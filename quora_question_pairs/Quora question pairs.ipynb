{
 "cells": [
  {
   "cell_type": "code",
   "execution_count": 3,
   "metadata": {
    "collapsed": false,
    "deletable": true,
    "editable": true
   },
   "outputs": [],
   "source": [
    "from sys import stdout\n",
    "import numpy as np\n",
    "import matplotlib as mpl\n",
    "import matplotlib.pyplot as plt\n",
    "import pandas as pd\n",
    "import plotly.plotly as py\n",
    "import plotly.graph_objs as go\n",
    "import scipy\n",
    "import nltk\n",
    "import spacy\n",
    "from copy import copy\n",
    "from random import randint\n",
    "from math import sqrt\n",
    "from __future__ import division\n",
    "import pickle\n",
    "import time\n",
    "\n",
    "import seaborn as sns\n",
    "import warnings\n",
    "from IPython.display import display\n",
    "\n",
    "from sklearn.preprocessing import normalize, StandardScaler\n",
    "from sklearn.cluster import KMeans\n",
    "from sklearn.svm import SVC\n",
    "from sklearn.naive_bayes import GaussianNB\n",
    "from sklearn.tree import DecisionTreeClassifier\n",
    "from sklearn.metrics import log_loss\n",
    "from sklearn.ensemble import GradientBoostingClassifier\n",
    "from sklearn.feature_extraction.text import TfidfVectorizer, CountVectorizer\n",
    "from sklearn.cross_validation import train_test_split\n",
    "\n",
    "import xgboost as xgb\n",
    "\n",
    "%matplotlib inline\n",
    "sns.set_style(\"darkgrid\")"
   ]
  },
  {
   "cell_type": "code",
   "execution_count": 4,
   "metadata": {
    "collapsed": false,
    "deletable": true,
    "editable": true
   },
   "outputs": [
    {
     "data": {
      "text/html": [
       "<div>\n",
       "<table border=\"1\" class=\"dataframe\">\n",
       "  <thead>\n",
       "    <tr style=\"text-align: right;\">\n",
       "      <th></th>\n",
       "      <th>test_id</th>\n",
       "      <th>question1</th>\n",
       "      <th>question2</th>\n",
       "    </tr>\n",
       "  </thead>\n",
       "  <tbody>\n",
       "    <tr>\n",
       "      <th>0</th>\n",
       "      <td>0</td>\n",
       "      <td>How does the Surface Pro himself 4 compare wit...</td>\n",
       "      <td>Why did Microsoft choose core m3 and not core ...</td>\n",
       "    </tr>\n",
       "    <tr>\n",
       "      <th>1</th>\n",
       "      <td>1</td>\n",
       "      <td>Should I have a hair transplant at age 24? How...</td>\n",
       "      <td>How much cost does hair transplant require?</td>\n",
       "    </tr>\n",
       "    <tr>\n",
       "      <th>2</th>\n",
       "      <td>2</td>\n",
       "      <td>What but is the best way to send money from Ch...</td>\n",
       "      <td>What you send money to China?</td>\n",
       "    </tr>\n",
       "    <tr>\n",
       "      <th>3</th>\n",
       "      <td>3</td>\n",
       "      <td>Which food not emulsifiers?</td>\n",
       "      <td>What foods fibre?</td>\n",
       "    </tr>\n",
       "    <tr>\n",
       "      <th>4</th>\n",
       "      <td>4</td>\n",
       "      <td>How \"aberystwyth\" start reading?</td>\n",
       "      <td>How their can I start reading?</td>\n",
       "    </tr>\n",
       "  </tbody>\n",
       "</table>\n",
       "</div>"
      ],
      "text/plain": [
       "   test_id                                          question1  \\\n",
       "0        0  How does the Surface Pro himself 4 compare wit...   \n",
       "1        1  Should I have a hair transplant at age 24? How...   \n",
       "2        2  What but is the best way to send money from Ch...   \n",
       "3        3                        Which food not emulsifiers?   \n",
       "4        4                   How \"aberystwyth\" start reading?   \n",
       "\n",
       "                                           question2  \n",
       "0  Why did Microsoft choose core m3 and not core ...  \n",
       "1        How much cost does hair transplant require?  \n",
       "2                      What you send money to China?  \n",
       "3                                  What foods fibre?  \n",
       "4                     How their can I start reading?  "
      ]
     },
     "metadata": {},
     "output_type": "display_data"
    },
    {
     "data": {
      "text/html": [
       "<div>\n",
       "<table border=\"1\" class=\"dataframe\">\n",
       "  <thead>\n",
       "    <tr style=\"text-align: right;\">\n",
       "      <th></th>\n",
       "      <th>id</th>\n",
       "      <th>qid1</th>\n",
       "      <th>qid2</th>\n",
       "      <th>question1</th>\n",
       "      <th>question2</th>\n",
       "      <th>is_duplicate</th>\n",
       "    </tr>\n",
       "  </thead>\n",
       "  <tbody>\n",
       "    <tr>\n",
       "      <th>0</th>\n",
       "      <td>0</td>\n",
       "      <td>1</td>\n",
       "      <td>2</td>\n",
       "      <td>What is the step by step guide to invest in sh...</td>\n",
       "      <td>What is the step by step guide to invest in sh...</td>\n",
       "      <td>0</td>\n",
       "    </tr>\n",
       "    <tr>\n",
       "      <th>1</th>\n",
       "      <td>1</td>\n",
       "      <td>3</td>\n",
       "      <td>4</td>\n",
       "      <td>What is the story of Kohinoor (Koh-i-Noor) Dia...</td>\n",
       "      <td>What would happen if the Indian government sto...</td>\n",
       "      <td>0</td>\n",
       "    </tr>\n",
       "    <tr>\n",
       "      <th>2</th>\n",
       "      <td>2</td>\n",
       "      <td>5</td>\n",
       "      <td>6</td>\n",
       "      <td>How can I increase the speed of my internet co...</td>\n",
       "      <td>How can Internet speed be increased by hacking...</td>\n",
       "      <td>0</td>\n",
       "    </tr>\n",
       "    <tr>\n",
       "      <th>3</th>\n",
       "      <td>3</td>\n",
       "      <td>7</td>\n",
       "      <td>8</td>\n",
       "      <td>Why am I mentally very lonely? How can I solve...</td>\n",
       "      <td>Find the remainder when [math]23^{24}[/math] i...</td>\n",
       "      <td>0</td>\n",
       "    </tr>\n",
       "    <tr>\n",
       "      <th>4</th>\n",
       "      <td>4</td>\n",
       "      <td>9</td>\n",
       "      <td>10</td>\n",
       "      <td>Which one dissolve in water quikly sugar, salt...</td>\n",
       "      <td>Which fish would survive in salt water?</td>\n",
       "      <td>0</td>\n",
       "    </tr>\n",
       "  </tbody>\n",
       "</table>\n",
       "</div>"
      ],
      "text/plain": [
       "   id  qid1  qid2                                          question1  \\\n",
       "0   0     1     2  What is the step by step guide to invest in sh...   \n",
       "1   1     3     4  What is the story of Kohinoor (Koh-i-Noor) Dia...   \n",
       "2   2     5     6  How can I increase the speed of my internet co...   \n",
       "3   3     7     8  Why am I mentally very lonely? How can I solve...   \n",
       "4   4     9    10  Which one dissolve in water quikly sugar, salt...   \n",
       "\n",
       "                                           question2  is_duplicate  \n",
       "0  What is the step by step guide to invest in sh...             0  \n",
       "1  What would happen if the Indian government sto...             0  \n",
       "2  How can Internet speed be increased by hacking...             0  \n",
       "3  Find the remainder when [math]23^{24}[/math] i...             0  \n",
       "4            Which fish would survive in salt water?             0  "
      ]
     },
     "metadata": {},
     "output_type": "display_data"
    }
   ],
   "source": [
    "test = pd.read_csv('test.csv')\n",
    "display(test.head())\n",
    "\n",
    "train = pd.read_csv('train.csv')\n",
    "display(train.head())"
   ]
  },
  {
   "cell_type": "code",
   "execution_count": 5,
   "metadata": {
    "collapsed": false,
    "deletable": true,
    "editable": true
   },
   "outputs": [
    {
     "name": "stdout",
     "output_type": "stream",
     "text": [
      "[['What is the step by step guide to invest in share market in india?'\n",
      "  'What is the step by step guide to invest in share market?' 0]\n",
      " ['What is the story of Kohinoor (Koh-i-Noor) Diamond?'\n",
      "  'What would happen if the Indian government stole the Kohinoor (Koh-i-Noor) diamond back?'\n",
      "  0]\n",
      " [ 'How can I increase the speed of my internet connection while using a VPN?'\n",
      "  'How can Internet speed be increased by hacking through DNS?' 0]\n",
      " ..., \n",
      " ['What is one coin?' \"What's this coin?\" 0]\n",
      " [ 'What is the approx annual cost of living while studying in UIC Chicago, for an Indian student?'\n",
      "  'I am having little hairfall problem but I want to use hair styling product. Which one should I prefer out of gel, wax and clay?'\n",
      "  0]\n",
      " ['What is like to have sex with cousin?'\n",
      "  'What is it like to have sex with your cousin?' 0]]\n",
      "[['What is the step by step guide to invest in share market in india?'\n",
      "  'What is the step by step guide to invest in share market?']\n",
      " ['What is the story of Kohinoor (Koh-i-Noor) Diamond?'\n",
      "  'What would happen if the Indian government stole the Kohinoor (Koh-i-Noor) diamond back?']\n",
      " [ 'How can I increase the speed of my internet connection while using a VPN?'\n",
      "  'How can Internet speed be increased by hacking through DNS?']\n",
      " ..., \n",
      " ['What is one coin?' \"What's this coin?\"]\n",
      " [ 'What is the approx annual cost of living while studying in UIC Chicago, for an Indian student?'\n",
      "  'I am having little hairfall problem but I want to use hair styling product. Which one should I prefer out of gel, wax and clay?']\n",
      " ['What is like to have sex with cousin?'\n",
      "  'What is it like to have sex with your cousin?']]\n",
      "[0 0 0 ..., 0 0 0]\n"
     ]
    }
   ],
   "source": [
    "Xy = train.drop(['qid1', 'qid2', 'id'], axis=1).as_matrix() \n",
    "X = train.drop(['qid1', 'qid2', 'id', 'is_duplicate'], axis=1).as_matrix()\n",
    "y = train['is_duplicate'].as_matrix()\n",
    "\n",
    "print Xy\n",
    "print X\n",
    "print y\n",
    "\n",
    "features = np.copy(X)"
   ]
  },
  {
   "cell_type": "code",
   "execution_count": 6,
   "metadata": {
    "collapsed": false,
    "deletable": true,
    "editable": true
   },
   "outputs": [
    {
     "name": "stdout",
     "output_type": "stream",
     "text": [
      "(10000, 3)\n"
     ]
    }
   ],
   "source": [
    "sample = Xy[np.random.choice(X.shape[0], 10000, replace=False), :]\n",
    "print sample.shape"
   ]
  },
  {
   "cell_type": "code",
   "execution_count": 7,
   "metadata": {
    "collapsed": true,
    "deletable": true,
    "editable": true
   },
   "outputs": [],
   "source": [
    "def equalize(tokens):\n",
    "    stemmer = nltk.stem.PorterStemmer()\n",
    "    stems = [(stemmer.stem(t)) for t in tokens]\n",
    "    return stems"
   ]
  },
  {
   "cell_type": "code",
   "execution_count": 8,
   "metadata": {
    "collapsed": false,
    "deletable": true,
    "editable": true
   },
   "outputs": [
    {
     "data": {
      "text/plain": [
       "array([[ ['what', 'would', 'trump', 'presidency', 'mean', 'current', 'international', 'students', 'visa'],\n",
       "        ['how', 'trump', 'presidency', 'affect', 'students', 'presently', 'planning', 'study']],\n",
       "       [['what', 'manipulation', 'mean'], ['what', 'manipulation', 'means']],\n",
       "       [['why', 'girls', 'want', 'friends', 'guy', 'reject'],\n",
       "        ['how', 'guys', 'feel', 'rejecting', 'girl']],\n",
       "       [ ['why', 'many', 'quora', 'users', 'posting', 'questions', 'readily', 'answered', 'google'],\n",
       "        ['why', 'people', 'ask', 'quora', 'questions', 'answered', 'easily', 'google']],\n",
       "       [['which', 'best', 'digital', 'marketing', 'institution', 'banglore'],\n",
       "        ['which', 'best', 'digital', 'marketing', 'institute', 'pune']]], dtype=object)"
      ]
     },
     "metadata": {},
     "output_type": "display_data"
    },
    {
     "name": "stdout",
     "output_type": "stream",
     "text": [
      "----\n",
      "[[ 'What would a Trump presidency mean for current international master\\xe2\\x80\\x99s students on an F1 visa?'\n",
      "  'How will a Trump presidency affect the students presently in US or planning to study in US?']\n",
      " ['What does manipulation mean?' 'What does manipulation means?']\n",
      " ['Why do girls want to be friends with the guy they reject?'\n",
      "  'How do guys feel after rejecting a girl?']\n",
      " [ 'Why are so many Quora users posting questions that are readily answered on Google?'\n",
      "  'Why do people ask Quora questions which can be answered easily by Google?']\n",
      " ['Which is the best digital marketing institution in banglore?'\n",
      "  'Which is the best digital marketing institute in Pune?']]\n"
     ]
    }
   ],
   "source": [
    "# sX, sy = sample[:, 0:2], sample[:, 2]\n",
    "sX, sy = Xy[:, 0:2], Xy[:, 2]\n",
    "\n",
    "toker = nltk.tokenize.RegexpTokenizer(r'((?<=[^\\w\\s])\\w(?=[^\\w\\s])|(\\W))+', gaps=True)\n",
    "\n",
    "def clean(v):\n",
    "    ans = []\n",
    "    try:\n",
    "        for word in toker.tokenize(v):\n",
    "            if word not in nltk.corpus.stopwords.words('english') and word.isalpha() and len(word) > 2:\n",
    "                ans.append(word.lower())\n",
    "    except:\n",
    "        pass\n",
    "    \n",
    "    return ans\n",
    "\n",
    "# cl = []\n",
    "# cleq = []\n",
    "# lens = []\n",
    "\n",
    "# for i, v in enumerate(sX):\n",
    "#     stdout.write(str(i+1) + '/' + str(sX.shape[0]) + '\\r')\n",
    "#     cl.append([clean(v[0]), clean(v[1])])\n",
    "#     cleq.append([equalize(cl[i][0]), equalize(cl[i][1])])\n",
    "#     lens.append(abs(len(cl[i][0]) - len(cl[i][1])))\n",
    "\n",
    "# cl, cleq = map(np.array, (cl, cleq))\n",
    "# cl = np.array(cl)\n",
    " \n",
    "with open('cleaned_train_matrix.pkl') as f:\n",
    "    cl = pickle.load(f)\n",
    "    \n",
    "display(cl[15:20])\n",
    "print '----'\n",
    "print sX[15:20]"
   ]
  },
  {
   "cell_type": "code",
   "execution_count": 9,
   "metadata": {
    "collapsed": false,
    "deletable": true,
    "editable": true
   },
   "outputs": [],
   "source": [
    "def get_longest_common_substring(A, B):\n",
    "    m, n = len(B), len(A)\n",
    "    length= [[0 for x in range (m+1)]for x in range (n+1)]\n",
    "\n",
    "    for i in range (1,n+1):\n",
    "        for j in range (1, m+1):\n",
    "            if A[i-1]==B[j-1]:\n",
    "                length[i][j]=1+length[i-1][j-1]\n",
    "            else:\n",
    "                length[i][j]= length[i-1][j] if length[i-1][j]>length[i][j-1] else length[i][j-1]            \n",
    "\n",
    "\n",
    "    index = length[n][m]\n",
    "    p= copy(index)\n",
    "\n",
    "    lcs= ['' for x in range (index)]\n",
    "    i,j= n, m\n",
    "    while i>0 and j>0:\n",
    "        if A[i-1]== B[j-1]:\n",
    "            lcs[index-1]= A[i-1]\n",
    "            index=index-1\n",
    "            i=i-1\n",
    "            j=j-1\n",
    "\n",
    "        elif length[i-1][j]> length[i][j-1]:\n",
    "            i=i-1\n",
    "\n",
    "        else:\n",
    "            j=j-1\n",
    "            \n",
    "    return lcs\n",
    "\n",
    "\n",
    "def create_commons(arr):    \n",
    "    commons = []\n",
    "    uniques = []\n",
    "    scores = []\n",
    "    \n",
    "    for e, i in enumerate(arr):\n",
    "        commons.append(get_longest_common_substring(i[0], i[1]))\n",
    "        u1 = [j for j in i[0] if j not in commons[e]]\n",
    "        u2 = [j for j in i[1] if j not in commons[e] and j not in u1]\n",
    "        uniques.append(u1 + u2)\n",
    "        \n",
    "        try:\n",
    "            scores.append( len(commons[e]) * (1/len(i[0]) + 1/len(i[1])) / 2)\n",
    "        except ZeroDivisionError:\n",
    "            if len(i[0]) == 0 and len(i[1]) > 0:\n",
    "                s = len(commons[e]) *  1/len(i[1])\n",
    "                \n",
    "            elif len(i[1]) == 0 and len(i[0]) > 0:\n",
    "                s = len(commons[e]) *  1/len(i[0])\n",
    "            else:\n",
    "                s = 0\n",
    "            scores.append(s)\n",
    "            \n",
    "        stdout.write(str(e) + '/' + str(arr.shape[0]) + '\\r')\n",
    "    \n",
    "    return map(np.array, (commons, uniques, scores))"
   ]
  },
  {
   "cell_type": "code",
   "execution_count": 10,
   "metadata": {
    "collapsed": false,
    "deletable": true,
    "editable": true
   },
   "outputs": [
    {
     "name": "stdout",
     "output_type": "stream",
     "text": [
      "[['What is the step by step guide to invest in share market in india?'\n",
      "  'What is the step by step guide to invest in share market?']\n",
      " ['What is the story of Kohinoor (Koh-i-Noor) Diamond?'\n",
      "  'What would happen if the Indian government stole the Kohinoor (Koh-i-Noor) diamond back?']\n",
      " [ 'How can I increase the speed of my internet connection while using a VPN?'\n",
      "  'How can Internet speed be increased by hacking through DNS?']\n",
      " ['Why am I mentally very lonely? How can I solve it?'\n",
      "  'Find the remainder when [math]23^{24}[/math] is divided by 24,23?']\n",
      " [ 'Which one dissolve in water quikly sugar, salt, methane and carbon di oxide?'\n",
      "  'Which fish would survive in salt water?']]\n"
     ]
    },
    {
     "data": {
      "text/plain": [
       "array([[['what', 'step', 'step', 'guide', 'invest', 'share', 'market', 'india'],\n",
       "        ['what', 'step', 'step', 'guide', 'invest', 'share', 'market']],\n",
       "       [['what', 'story', 'kohinoor', 'koh', 'noor', 'diamond'],\n",
       "        ['what', 'would', 'happen', 'indian', 'government', 'stole', 'kohinoor', 'koh', 'noor', 'diamond', 'back']],\n",
       "       [['how', 'increase', 'speed', 'internet', 'connection', 'using', 'vpn'],\n",
       "        ['how', 'internet', 'speed', 'increased', 'hacking', 'dns']],\n",
       "       [['why', 'mentally', 'lonely', 'how', 'solve'],\n",
       "        ['find', 'remainder', 'math', 'math', 'divided']],\n",
       "       [ ['which', 'one', 'dissolve', 'water', 'quikly', 'sugar', 'salt', 'methane', 'carbon', 'oxide'],\n",
       "        ['which', 'fish', 'would', 'survive', 'salt', 'water']]], dtype=object)"
      ]
     },
     "metadata": {},
     "output_type": "display_data"
    },
    {
     "name": "stdout",
     "output_type": "stream",
     "text": [
      "[['what', 'step', 'step', 'guide', 'invest', 'share', 'market']\n",
      " ['what', 'kohinoor', 'koh', 'noor', 'diamond'] ['how', 'internet'] []\n",
      " ['which', 'salt']]\n",
      "----------------\n",
      "[['india']\n",
      " ['story', 'would', 'happen', 'indian', 'government', 'stole', 'back']\n",
      " ['increase', 'speed', 'connection', 'using', 'vpn', 'increased', 'hacking', 'dns']\n",
      " ['why', 'mentally', 'lonely', 'how', 'solve', 'find', 'remainder', 'math', 'math', 'divided']\n",
      " ['one', 'dissolve', 'water', 'quikly', 'sugar', 'methane', 'carbon', 'oxide', 'fish', 'would', 'survive']]\n"
     ]
    },
    {
     "data": {
      "text/plain": [
       "'----------------'"
      ]
     },
     "metadata": {},
     "output_type": "display_data"
    },
    {
     "name": "stdout",
     "output_type": "stream",
     "text": [
      "[ 0.9375      0.64393939  0.30952381  0.          0.26666667]\n"
     ]
    },
    {
     "data": {
      "text/plain": [
       "array([0, 0, 0, 0, 0], dtype=object)"
      ]
     },
     "metadata": {},
     "output_type": "display_data"
    }
   ],
   "source": [
    "print sX[:5]\n",
    "display(cl[:5])\n",
    "\n",
    "commons_eq, uniques_eq, scores_eq = create_commons(cl)\n",
    "\n",
    "print commons_eq[:5]\n",
    "print '----------------'\n",
    "print (uniques_eq[:5])\n",
    "display('----------------')\n",
    "print scores_eq[:5]\n",
    "display(sy[:5])"
   ]
  },
  {
   "cell_type": "code",
   "execution_count": 11,
   "metadata": {
    "collapsed": false,
    "deletable": true,
    "editable": true
   },
   "outputs": [
    {
     "name": "stdout",
     "output_type": "stream",
     "text": [
      "1.0 0.0\n",
      "0.643301449735\n",
      "0.413318338746\n"
     ]
    },
    {
     "data": {
      "image/png": "[encoded data removed]",
      "text/plain": [
       "<matplotlib.figure.Figure at 0x12f585890>"
      ]
     },
     "metadata": {},
     "output_type": "display_data"
    },
    {
     "data": {
      "text/plain": [
       "<matplotlib.collections.PathCollection at 0x135cc5590>"
      ]
     },
     "execution_count": 11,
     "metadata": {},
     "output_type": "execute_result"
    },
    {
     "data": {
      "image/png": "[encoded data removed]",
      "text/plain": [
       "<matplotlib.figure.Figure at 0x10feb5f50>"
      ]
     },
     "metadata": {},
     "output_type": "display_data"
    }
   ],
   "source": [
    "print np.max(scores_eq), np.min(scores_eq)\n",
    "print scores_eq[sy == 1].mean()\n",
    "print scores_eq[sy == 0].mean()\n",
    "\n",
    "pal = sns.cubehelix_palette(10, start=.5, rot=-.75)\n",
    "bcolor, rcolor = pal[0], pal[9]\n",
    "\n",
    "plt.hist(scores_eq[sy == 0], color=rcolor)\n",
    "# plt.show()\n",
    "plt.hist(scores_eq[sy == 1], color=bcolor, alpha=0.7)\n",
    "plt.xlabel('Score')\n",
    "plt.ylabel('Number of instances')\n",
    "plt.show()\n",
    "plt.scatter(np.linspace(0, 1, scores_eq[sy == 0].shape[0]), scores_eq[sy == 0], color=rcolor)\n",
    "plt.scatter(np.linspace(0, 1, scores_eq[sy == 1].shape[0]), scores_eq[sy == 1], color=bcolor)"
   ]
  },
  {
   "cell_type": "code",
   "execution_count": 11,
   "metadata": {
    "collapsed": false,
    "deletable": true,
    "editable": true
   },
   "outputs": [
    {
     "name": "stdout",
     "output_type": "stream",
     "text": [
      "(404290,)\n",
      "19.4880685533 -1.2239870253\n",
      "0.276607706404\n",
      "-0.472604955957\n"
     ]
    }
   ],
   "source": [
    "print uniques_eq.shape\n",
    "numuniques = np.array([float(len(i)) for i in uniques_eq])\n",
    "scaler = StandardScaler()\n",
    "numuniques = scaler.fit_transform(numuniques.reshape(-1, 1))\n",
    "print numuniques.max(), numuniques.min()\n",
    "print numuniques[sy==0].mean()\n",
    "print numuniques[sy==1].mean()"
   ]
  },
  {
   "cell_type": "code",
   "execution_count": 13,
   "metadata": {
    "collapsed": false,
    "deletable": true,
    "editable": true
   },
   "outputs": [
    {
     "data": {
      "image/png": "[encoded data removed]",
      "text/plain": [
       "<matplotlib.figure.Figure at 0x13d90fd90>"
      ]
     },
     "metadata": {},
     "output_type": "display_data"
    },
    {
     "data": {
      "image/png": "[encoded data removed]",
      "text/plain": [
       "<matplotlib.figure.Figure at 0x13d03a390>"
      ]
     },
     "metadata": {},
     "output_type": "display_data"
    }
   ],
   "source": [
    "plt.hist(numuniques[sy == 0], color=rcolor)\n",
    "# plt.show()\n",
    "plt.hist(numuniques[sy == 1], color=bcolor)\n",
    "plt.show()\n",
    "\n",
    "plt.scatter(np.linspace(0, 1, numuniques[sy == 0].shape[0]), \n",
    "                numuniques[sy == 0], color=rcolor, marker='x')\n",
    "plt.scatter(np.linspace(0, 1, numuniques[sy == 1].shape[0]), \n",
    "                numuniques[sy == 1], color=bcolor)\n",
    "plt.show()"
   ]
  },
  {
   "cell_type": "code",
   "execution_count": 12,
   "metadata": {
    "collapsed": false,
    "deletable": true,
    "editable": true
   },
   "outputs": [],
   "source": [
    "def get_weights(X, commons):\n",
    "    tfidf = TfidfVectorizer()\n",
    "    woo = []\n",
    "\n",
    "    for i in X:\n",
    "        woo.append(' '.join(i[0]) + ' ')\n",
    "        woo.append( ' '.join(i[1]) + ' ')\n",
    "\n",
    "    m = tfidf.fit(woo)\n",
    "    words = m.get_feature_names()\n",
    "    vals = dict(zip(words, m.idf_))\n",
    "\n",
    "    weights = np.zeros((X.shape[0], 1))\n",
    "    print weights.shape, X.shape\n",
    "    \n",
    "    for j, i in enumerate(X):\n",
    "        w1, w2, w3 = 0.0, 0.0, 0.0\n",
    "        for v in i[0]:\n",
    "            w1 += vals[v]\n",
    "        for v in i[1]:\n",
    "            w2 += vals[v]\n",
    "        \n",
    "        for v in commons[j]:\n",
    "            w3 += vals[v]\n",
    "\n",
    "#         weights.append(abs(w1-w2))\n",
    "        try:\n",
    "            weights[j] = w3 / (w1 + w2)\n",
    "        except ZeroDivisionError:\n",
    "            weights[j] = w3\n",
    "            \n",
    "#     weights = np.array(weights)\n",
    "\n",
    "    return weights, vals"
   ]
  },
  {
   "cell_type": "code",
   "execution_count": 13,
   "metadata": {
    "collapsed": false,
    "deletable": true,
    "editable": true
   },
   "outputs": [],
   "source": [
    "def get_char_count_diff(X):\n",
    "    def get_diff(v):\n",
    "        return abs(len(str(v[0])) - len(str(v[1])))\n",
    "    \n",
    "    diffs = np.apply_along_axis(get_diff, 1, X)\n",
    "    \n",
    "    return diffs"
   ]
  },
  {
   "cell_type": "code",
   "execution_count": 14,
   "metadata": {
    "collapsed": true,
    "deletable": true,
    "editable": true
   },
   "outputs": [],
   "source": [
    "CLKMEASURE = 0\n",
    "nlp = spacy.load('en', parser=False, entity=False)"
   ]
  },
  {
   "cell_type": "code",
   "execution_count": 15,
   "metadata": {
    "collapsed": false,
    "deletable": true,
    "editable": true
   },
   "outputs": [],
   "source": [
    "def get_noun_count(X):\n",
    "    global CLKMEASURE\n",
    "    CLKMEASURE = 0\n",
    "    \n",
    "    def extract_nouns(v):\n",
    "        global CLKMEASURE\n",
    "        CLKMEASURE += 1\n",
    "        stdout.write('{}/{}\\r'.format(CLKMEASURE, X.shape[0]))\n",
    "        return len([x for x in nltk.pos_tag(v[0]) if x[1] == 'NN' or x[1] == 'NNP'])\n",
    "    \n",
    "    return np.apply_along_axis(extract_nouns, 1, X.reshape(-1, 1))"
   ]
  },
  {
   "cell_type": "code",
   "execution_count": 16,
   "metadata": {
    "collapsed": false,
    "deletable": true,
    "editable": true
   },
   "outputs": [],
   "source": [
    "CLKMEASURE = 0\n",
    "def spacy_sim(X):\n",
    "    global CLKMEASURE\n",
    "    CLKMEASURE = 0\n",
    "    def get_sims(v):\n",
    "        global CLKMEASURE\n",
    "        CLKMEASURE += 1\n",
    "        \n",
    "        vs0 = str(v[0])\n",
    "        vs1 = str(v[1])\n",
    "        d1 = nlp(unicode(vs0.decode('utf-8')))\n",
    "        d2 = nlp(unicode(vs1.decode('utf-8')))\n",
    "        sim = d1.similarity(d2)\n",
    "        stdout.write('{}/{}\\r'.format(CLKMEASURE, X.shape[0]))\n",
    "        return sim\n",
    "    \n",
    "    return np.apply_along_axis(get_sims, 1, X)"
   ]
  },
  {
   "cell_type": "code",
   "execution_count": 17,
   "metadata": {
    "collapsed": false,
    "deletable": true,
    "editable": true
   },
   "outputs": [],
   "source": [
    "def get_spacy_noun_count(X):\n",
    "    global CLKMEASURE\n",
    "    CLKMEASURE = 0\n",
    "    \n",
    "    def extract_nouns(v):\n",
    "        global CLKMEASURE\n",
    "        CLKMEASURE += 1\n",
    "        stdout.write('{}/{}\\r'.format(CLKMEASURE, X.shape[0]))\n",
    "\n",
    "        vs0 = ' '.join(v[0])\n",
    "        d = nlp(unicode(vs0.decode('utf-8')))\n",
    "        \n",
    "        nouns = [x for x in d if (x.tag_ == 'NN' or x.tag_ == 'NNP')]\n",
    "#         print nouns\n",
    "        return len(nouns)\n",
    "    \n",
    "    return np.apply_along_axis(extract_nouns, 1, X.reshape(-1, 1))"
   ]
  },
  {
   "cell_type": "code",
   "execution_count": 398,
   "metadata": {
    "collapsed": false,
    "deletable": true,
    "editable": true
   },
   "outputs": [
    {
     "name": "stdout",
     "output_type": "stream",
     "text": [
      "1/100\r",
      "2/100\r",
      "3/100\r",
      "4/100\r",
      "5/100\r",
      "6/100\r",
      "7/100\r",
      "8/100\r",
      "9/100\r",
      "10/100\r",
      "11/100\r",
      "12/100\r",
      "13/100\r",
      "14/100\r",
      "15/100\r",
      "16/100\r",
      "17/100\r",
      "18/100\r",
      "19/100\r",
      "20/100\r",
      "21/100\r",
      "22/100\r",
      "23/100\r",
      "24/100\r",
      "25/100\r",
      "26/100\r",
      "27/100\r",
      "28/100\r",
      "29/100\r",
      "30/100\r",
      "31/100\r",
      "32/100\r",
      "33/100\r",
      "34/100\r",
      "35/100\r",
      "36/100\r",
      "37/100\r",
      "38/100\r",
      "39/100\r",
      "40/100\r",
      "41/100\r",
      "42/100\r",
      "43/100\r",
      "44/100\r",
      "45/100\r",
      "46/100\r",
      "47/100\r",
      "48/100\r",
      "49/100\r",
      "50/100\r",
      "51/100\r",
      "52/100\r",
      "53/100\r",
      "54/100\r",
      "55/100\r",
      "56/100\r",
      "57/100\r",
      "58/100\r",
      "59/100\r",
      "60/100\r",
      "61/100\r",
      "62/100\r",
      "63/100\r",
      "64/100\r",
      "65/100\r",
      "66/100\r",
      "67/100\r",
      "68/100\r",
      "69/100\r",
      "70/100\r",
      "71/100\r",
      "72/100\r",
      "73/100\r",
      "74/100\r",
      "75/100\r",
      "76/100\r",
      "77/100\r",
      "78/100\r",
      "79/100\r",
      "80/100\r",
      "81/100\r",
      "82/100\r",
      "83/100\r",
      "84/100\r",
      "85/100\r",
      "86/100\r",
      "87/100\r",
      "88/100\r",
      "89/100\r",
      "90/100\r",
      "91/100\r",
      "92/100\r",
      "93/100\r",
      "94/100\r",
      "95/100\r",
      "96/100\r",
      "97/100\r",
      "98/100\r",
      "99/100\r",
      "100/100\r",
      "0.144022\n",
      "[1 2 4 2 7 4 2 0 0 2 5 0 0 0 1 2 1 2 0 3 1 2 1 3 4 2 1 3 1 1 0 1 0 5 1 4 2\n",
      " 3 1 4 3 0 0 2 1 2 7 5 0 0 2 0 1 2 2 0 0 1 1 0 2 1 5 0 0 3 1 0 1 5 1 0 1 6\n",
      " 0 9 1 5 1 0 8 5 8 0 3 1 1 4 1 0 4 2 1 1 0 0 2 1 9 2]\n"
     ]
    }
   ],
   "source": [
    "t = time.clock()\n",
    "noun_count_train = get_noun_count(uniques_eq[:100])\n",
    "print time.clock() - t\n",
    "print noun_count_train"
   ]
  },
  {
   "cell_type": "code",
   "execution_count": 18,
   "metadata": {
    "collapsed": false,
    "deletable": true,
    "editable": true
   },
   "outputs": [
    {
     "name": "stdout",
     "output_type": "stream",
     "text": [
      "292.539608290\n",
      "[ 0.99654587  0.93444557  0.93191186 ...,  0.94499402  0.80907542\n",
      "  0.98751808]\n"
     ]
    }
   ],
   "source": [
    "t = time.clock()\n",
    "sims = spacy_sim(X)\n",
    "print time.clock() - t\n",
    "print sims"
   ]
  },
  {
   "cell_type": "code",
   "execution_count": 19,
   "metadata": {
    "collapsed": false,
    "deletable": true,
    "editable": true
   },
   "outputs": [
    {
     "name": "stdout",
     "output_type": "stream",
     "text": [
      "(404290, 1) (404290, 2)\n"
     ]
    },
    {
     "name": "stderr",
     "output_type": "stream",
     "text": [
      "/usr/local/lib/python2.7/site-packages/sklearn/utils/validation.py:429: DataConversionWarning:\n",
      "\n",
      "Data with input dtype int64 was converted to float64 by StandardScaler.\n",
      "\n"
     ]
    },
    {
     "name": "stdout",
     "output_type": "stream",
     "text": [
      "[[ 0.47871414]\n",
      " [ 0.3338373 ]\n",
      " [ 0.1010657 ]\n",
      " [ 0.        ]\n",
      " [ 0.10118467]]\n"
     ]
    }
   ],
   "source": [
    "weights, weight_dict = get_weights(cl, commons_eq)\n",
    "char_diff = scaler.fit_transform(get_char_count_diff(sX).reshape(-1, 1))\n",
    "word_diff = scaler.fit_transform(get_char_count_diff(cl).reshape(-1, 1))\n",
    "print weights[0:5]"
   ]
  },
  {
   "cell_type": "code",
   "execution_count": 20,
   "metadata": {
    "collapsed": false,
    "deletable": true,
    "editable": true
   },
   "outputs": [
    {
     "name": "stdout",
     "output_type": "stream",
     "text": [
      "97.1127584290\n"
     ]
    },
    {
     "ename": "NameError",
     "evalue": "name 'weighted_nouns' is not defined",
     "output_type": "error",
     "traceback": [
      "\u001b[0;31m---------------------------------------------------------------------------\u001b[0m",
      "\u001b[0;31mNameError\u001b[0m                                 Traceback (most recent call last)",
      "\u001b[0;32m<ipython-input-20-e08740e4850f>\u001b[0m in \u001b[0;36m<module>\u001b[0;34m()\u001b[0m\n\u001b[1;32m      2\u001b[0m \u001b[0mnouns_spacy\u001b[0m \u001b[0;34m=\u001b[0m \u001b[0mget_spacy_noun_count\u001b[0m\u001b[0;34m(\u001b[0m\u001b[0muniques_eq\u001b[0m\u001b[0;34m)\u001b[0m\u001b[0;34m\u001b[0m\u001b[0m\n\u001b[1;32m      3\u001b[0m \u001b[0;32mprint\u001b[0m \u001b[0mtime\u001b[0m\u001b[0;34m.\u001b[0m\u001b[0mclock\u001b[0m\u001b[0;34m(\u001b[0m\u001b[0;34m)\u001b[0m \u001b[0;34m-\u001b[0m \u001b[0mt\u001b[0m\u001b[0;34m\u001b[0m\u001b[0m\n\u001b[0;32m----> 4\u001b[0;31m \u001b[0;32mprint\u001b[0m \u001b[0mweighted_nouns\u001b[0m\u001b[0;34m\u001b[0m\u001b[0m\n\u001b[0m",
      "\u001b[0;31mNameError\u001b[0m: name 'weighted_nouns' is not defined"
     ]
    }
   ],
   "source": [
    "t = time.clock()\n",
    "nouns_spacy = get_spacy_noun_count(uniques_eq)\n",
    "print time.clock() - t"
   ]
  },
  {
   "cell_type": "code",
   "execution_count": 21,
   "metadata": {
    "collapsed": false,
    "deletable": true,
    "editable": true
   },
   "outputs": [],
   "source": [
    "# ncopy = copy(noun_count_train)\n",
    "# noun_count_train_eq = scaler.fit_transform(noun_count_train.reshape(-1, 1))\n",
    "nouns_spacy_eq = scaler.fit_transform(nouns_spacy.reshape(-1, 1))"
   ]
  },
  {
   "cell_type": "code",
   "execution_count": 22,
   "metadata": {
    "collapsed": false,
    "deletable": true,
    "editable": true
   },
   "outputs": [
    {
     "name": "stdout",
     "output_type": "stream",
     "text": [
      "[['What is the step by step guide to invest in share market in india?'\n",
      "  'What is the step by step guide to invest in share market?']\n",
      " ['When do you use \\xe3\\x82\\xb7 instead of \\xe3\\x81\\x97?'\n",
      "  'When do you use \"&\" instead of \"and\"?']\n",
      " [ 'What are the laws to change your status from a student visa to a green card in the US, how do they compare to the immigration laws in Canada?'\n",
      "  'What are the laws to change your status from a student visa to a green card in the US? How do they compare to the immigration laws in Japan?']\n",
      " [ 'What are some tips on making it through the job interview process at Medicines?'\n",
      "  'What are some tips on making it through the job interview process at Foundation Medicine?']\n",
      " ['What is web application?' 'What is the web application framework?']]\n"
     ]
    }
   ],
   "source": [
    "tttX = sX[np.all(np.c_[scores_eq >= 0.7, sy == 0], axis=1)]\n",
    "print tttX[:5]"
   ]
  },
  {
   "cell_type": "code",
   "execution_count": 23,
   "metadata": {
    "collapsed": true,
    "deletable": true,
    "editable": true
   },
   "outputs": [],
   "source": [
    "def accuracy(model, XX, sy, label=None):\n",
    "#     p = model.predict(XX)\n",
    "\n",
    "    proba = model.predict_proba(XX)\n",
    "    p = np.argmax(proba, axis=1)\n",
    "    p_probs = np.max(proba, axis=1)\n",
    "    \n",
    "    comb = np.all(np.c_[p.astype(bool), sy.astype(bool)], axis=1)\n",
    "    \n",
    "    tp = p[np.all(np.c_[sy == 1, p == 1], axis=1)].shape[0]\n",
    "    tn = p[np.all(np.c_[sy == 0, p == 0], axis=1)].shape[0]\n",
    "    fp = p[np.all(np.c_[sy == 0, p == 1], axis=1)].shape[0]\n",
    "    fn = p[np.all(np.c_[sy == 1, p == 0], axis=1)].shape[0]\n",
    "    total = XX.shape[0]\n",
    "    pos_count = sy[sy==1].shape[0]\n",
    "    neg_count = sy[sy==0].shape[0]\n",
    "    \n",
    "    if label:\n",
    "        print \"----{}----\".format(label)\n",
    "        print\n",
    "        \n",
    "    print \"True pos {0}/{1}\".format(tp, pos_count)\n",
    "    print \"True neg {0}/{1}\".format(tn, neg_count)\n",
    "    print \"False pos {0}/{1}\".format(fp, neg_count)\n",
    "    print \"False neg {0}/{1}\".format(fn, pos_count)\n",
    "    \n",
    "    print \"Recall\", tp/(tp+fp)\n",
    "    print \"Precision\", tp/(tp+fn)\n",
    "    print 'Accuracy, {}'.format((tp+tn)/total)\n",
    "    print \"Log loss\", log_loss(sy.astype(int).ravel(), p_probs.ravel())\n"
   ]
  },
  {
   "cell_type": "code",
   "execution_count": 89,
   "metadata": {
    "collapsed": false,
    "deletable": true,
    "editable": true
   },
   "outputs": [],
   "source": [
    "XX = np.c_[numuniques, weights, word_diff, char_diff, nouns_spacy_eq, sims]\n",
    "XX_1 = np.c_[weights, word_diff, char_diff, nouns_spacy_eq, sims]\n",
    "XX_2 = np.c_[weights, word_diff, nouns_spacy_eq, sims]"
   ]
  },
  {
   "cell_type": "code",
   "execution_count": 90,
   "metadata": {
    "collapsed": false,
    "deletable": true,
    "editable": true
   },
   "outputs": [
    {
     "name": "stdout",
     "output_type": "stream",
     "text": [
      "----Naive Bayes----\n",
      "\n",
      "True pos 110082/149263\n",
      "True neg 157538/255027\n",
      "False pos 97489/255027\n",
      "False neg 39181/149263\n",
      "Recall 0.530334198901\n",
      "Precision 0.737503601026\n",
      "Accuracy, 0.661950580029\n",
      "Log loss 2.00355374453\n"
     ]
    }
   ],
   "source": [
    "gb = GaussianNB()\n",
    "m = gb.fit(XX_3, sy.astype(int))\n",
    "\n",
    "accuracy(m, XX_3, sy, \"Naive Bayes\")"
   ]
  },
  {
   "cell_type": "code",
   "execution_count": 73,
   "metadata": {
    "collapsed": false,
    "deletable": true,
    "editable": true
   },
   "outputs": [
    {
     "name": "stdout",
     "output_type": "stream",
     "text": [
      "True pos 102536/149263\n",
      "True neg 187270/255027\n",
      "False pos 67757/255027\n",
      "False neg 46727/149263\n",
      "Recall 0.602115177958\n",
      "Precision 0.686948540496\n",
      "Accuracy, 0.716827030102\n",
      "Log loss 1.5632379796\n"
     ]
    }
   ],
   "source": [
    "gb = GradientBoostingClassifier()\n",
    "mgb = gb.fit(XX_2, sy.astype(int))\n",
    "\n",
    "accuracy(mgb, XX_2, sy)"
   ]
  },
  {
   "cell_type": "code",
   "execution_count": 94,
   "metadata": {
    "collapsed": false,
    "deletable": true,
    "editable": true
   },
   "outputs": [
    {
     "name": "stdout",
     "output_type": "stream",
     "text": [
      "0.191243661001\n"
     ]
    }
   ],
   "source": [
    "pos_train = XX_2[sy == 1]\n",
    "neg_train = XX_2[sy == 0]\n",
    "\n",
    "p = 0.165\n",
    "scale = ((len(pos_train) / (len(pos_train) + len(neg_train))) / p) - 1\n",
    "\n",
    "while scale > 1:\n",
    "    neg_train = np.r_[neg_train, neg_train]\n",
    "    scale -=1\n",
    "    \n",
    "neg_train = np.r_[neg_train, neg_train[:int(scale * len(neg_train))]]\n",
    "print(len(pos_train) / (len(pos_train) + len(neg_train)))\n",
    "\n",
    "x_train = np.r_[pos_train, neg_train]\n",
    "\n",
    "y_train = (np.zeros(len(pos_train)) + 1).tolist() + np.zeros(len(neg_train)).tolist()\n",
    "del pos_train, neg_train"
   ]
  },
  {
   "cell_type": "code",
   "execution_count": 95,
   "metadata": {
    "collapsed": false,
    "deletable": true,
    "editable": true
   },
   "outputs": [
    {
     "name": "stdout",
     "output_type": "stream",
     "text": [
      "[0]\ttrain-logloss:0.656432\tvalid-logloss:0.656671\n",
      "Multiple eval metrics have been passed: 'valid-logloss' will be used for early stopping.\n",
      "\n",
      "Will train until valid-logloss hasn't improved in 50 rounds.\n",
      "[25]\ttrain-logloss:0.408659\tvalid-logloss:0.41147\n",
      "[50]\ttrain-logloss:0.390904\tvalid-logloss:0.394521\n",
      "[75]\ttrain-logloss:0.388476\tvalid-logloss:0.392543\n",
      "[100]\ttrain-logloss:0.387668\tvalid-logloss:0.392058\n",
      "[125]\ttrain-logloss:0.386695\tvalid-logloss:0.391492\n",
      "[150]\ttrain-logloss:0.385532\tvalid-logloss:0.390824\n",
      "[175]\ttrain-logloss:0.384793\tvalid-logloss:0.3905\n",
      "[200]\ttrain-logloss:0.384161\tvalid-logloss:0.390242\n",
      "[225]\ttrain-logloss:0.383726\tvalid-logloss:0.390036\n",
      "[250]\ttrain-logloss:0.383268\tvalid-logloss:0.389792\n",
      "[275]\ttrain-logloss:0.382898\tvalid-logloss:0.389672\n",
      "[300]\ttrain-logloss:0.382601\tvalid-logloss:0.389568\n",
      "[325]\ttrain-logloss:0.382244\tvalid-logloss:0.389419\n",
      "[350]\ttrain-logloss:0.381971\tvalid-logloss:0.389329\n",
      "[375]\ttrain-logloss:0.381655\tvalid-logloss:0.389221\n",
      "[399]\ttrain-logloss:0.381336\tvalid-logloss:0.38909\n"
     ]
    }
   ],
   "source": [
    "# x_train, x_valid, y_train, y_valid = train_test_split(XX, sy.astype(int), test_size=0.2, random_state=4242)\n",
    "x_train, x_valid, y_train, y_valid = train_test_split(x_train, y_train, test_size=0.2, random_state=4242)\n",
    "\n",
    "params = {}\n",
    "params['objective'] = 'binary:logistic'\n",
    "params['eval_metric'] = 'logloss'\n",
    "params['eta'] = 0.08\n",
    "params['max_depth'] = 6\n",
    "params['min_child_weight'] = 1\n",
    "\n",
    "d_train = xgb.DMatrix(x_train, label=y_train)\n",
    "d_valid = xgb.DMatrix(x_valid, label=y_valid)\n",
    "\n",
    "watchlist = [(d_train, 'train'), (d_valid, 'valid')]\n",
    "\n",
    "bst = xgb.train(params, d_train, 400, watchlist, early_stopping_rounds=50, verbose_eval=25)"
   ]
  },
  {
   "cell_type": "code",
   "execution_count": 27,
   "metadata": {
    "collapsed": false,
    "deletable": true,
    "editable": true
   },
   "outputs": [
    {
     "name": "stdout",
     "output_type": "stream",
     "text": [
      "[ 0.49063474  0.67052835  0.17352283]\n",
      "[0 0 0]\n"
     ]
    }
   ],
   "source": [
    "woo = xgb.DMatrix(XX[0:3])\n",
    "print bst.predict(woo)\n",
    "print sy[0:3]"
   ]
  },
  {
   "cell_type": "code",
   "execution_count": 29,
   "metadata": {
    "collapsed": false,
    "deletable": true,
    "editable": true
   },
   "outputs": [],
   "source": [
    "# cl_test = []\n",
    "testX = test.drop('test_id', axis=1).as_matrix()\n",
    "\n",
    "# for i, v in enumerate(testX):\n",
    "#     stdout.write(str(i+1) + '/' + str(testX.shape[0]) + '\\r')\n",
    "#     cl_test.append([clean(v[0]), clean(v[1])])\n",
    "\n",
    "# print 'Done cleaning'\n",
    "# cl_test = np.array(cl_test)"
   ]
  },
  {
   "cell_type": "code",
   "execution_count": 26,
   "metadata": {
    "collapsed": false,
    "deletable": true,
    "editable": true
   },
   "outputs": [],
   "source": [
    "with open('cleaned_test_matrix.pkl') as f:\n",
    "#     pickle.dump(cl_test, f)\n",
    "    cl_test = pickle.load(f)"
   ]
  },
  {
   "cell_type": "code",
   "execution_count": 30,
   "metadata": {
    "collapsed": false,
    "deletable": true,
    "editable": true
   },
   "outputs": [
    {
     "name": "stdout",
     "output_type": "stream",
     "text": [
      "(2345796, 1) (2345796, 2)\n",
      "2345796/2345796\r"
     ]
    }
   ],
   "source": [
    "commons_test, uniques_test, scores_test = create_commons(cl_test)\n",
    "numuniques_test = np.array([float(len(i)) for i in uniques_test])\n",
    "weights_test = get_weights(cl_test, commons_test)\n",
    "char_diff_test = get_char_count_diff(testX)\n",
    "word_diff_test = get_char_count_diff(cl_test)\n",
    "nouns_test = get_spacy_noun_count(uniques_test)\n",
    "sims_test = spacy_sim(testX)\n",
    "\n",
    "# x_test = np.c_[numuniques_test, weights_test, word_diff_test, char_diff_test]"
   ]
  },
  {
   "cell_type": "code",
   "execution_count": 17,
   "metadata": {
    "collapsed": false,
    "deletable": true,
    "editable": true
   },
   "outputs": [
    {
     "name": "stdout",
     "output_type": "stream",
     "text": [
      "(2345796, 1) (2345796, 2)\n"
     ]
    }
   ],
   "source": [
    "# weights_test = get_weights(cl_test, commons_test)\n",
    "# char_diff_test = get_char_count_diff(testX)\n",
    "# word_diff_test = get_char_count_diff(cl_test)\n",
    "\n",
    "# x_test = np.c_[numuniques_test, weights_test, word_diff_test, char_diff_test]"
   ]
  },
  {
   "cell_type": "code",
   "execution_count": 61,
   "metadata": {
    "collapsed": false,
    "deletable": true,
    "editable": true
   },
   "outputs": [],
   "source": [
    "x_test = np.c_[numuniques_test, weights_test[0], word_diff_test, char_diff_test, nouns_test, sims_test]\n",
    "x_test_1 = np.c_[weights_test[0], word_diff_test, nouns_test, sims_test]"
   ]
  },
  {
   "cell_type": "code",
   "execution_count": 96,
   "metadata": {
    "collapsed": false,
    "deletable": true,
    "editable": true
   },
   "outputs": [],
   "source": [
    "d_test = xgb.DMatrix(x_test_1)\n",
    "p_test = bst.predict(d_test)\n",
    "\n",
    "sub = pd.DataFrame()\n",
    "sub['test_id'] = test['test_id']\n",
    "sub['is_duplicate'] = p_test\n",
    "sub.to_csv('saumitra_quora_xgb_6.csv', index=False)"
   ]
  },
  {
   "cell_type": "code",
   "execution_count": 43,
   "metadata": {
    "collapsed": false,
    "deletable": true,
    "editable": true
   },
   "outputs": [
    {
     "name": "stdout",
     "output_type": "stream",
     "text": [
      "(404290,)\n",
      "(404290,)\n",
      "1.0\n"
     ]
    }
   ],
   "source": [
    "fi = bst.predict(d_train)\n",
    "fi[fi > 0.5] = 1\n",
    "fi[fi < 1] = 0\n",
    "\n",
    "fiprobs = np.in1d(sy, fi)\n",
    "print fiprobs.shape\n",
    "print sy.shape\n",
    "print fiprobs[fiprobs == True].shape[0]/sy.shape[0]"
   ]
  }
 ],
 "metadata": {
  "kernelspec": {
   "display_name": "Python 2",
   "language": "python",
   "name": "python2"
  },
  "language_info": {
   "codemirror_mode": {
    "name": "ipython",
    "version": 2
   },
   "file_extension": ".py",
   "mimetype": "text/x-python",
   "name": "python",
   "nbconvert_exporter": "python",
   "pygments_lexer": "ipython2",
   "version": "2.7.13"
  }
 },
 "nbformat": 4,
 "nbformat_minor": 2
}
